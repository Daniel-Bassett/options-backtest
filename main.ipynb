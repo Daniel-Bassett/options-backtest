{
 "cells": [
  {
   "cell_type": "code",
   "execution_count": 102,
   "id": "3dd54dff",
   "metadata": {},
   "outputs": [],
   "source": [
    "# import visualization packages\n",
    "from polygon import RESTClient\n",
    "import plotly.graph_objects as go\n",
    "from plotly.offline import plot\n",
    "import plotly.express as px\n",
    "\n",
    "# import pandas and datetime\n",
    "import pandas_market_calendars as mcal\n",
    "import pandas as pd\n",
    "import datetime as dt\n",
    "\n",
    "# import API_KEY from config\n",
    "from config import *"
   ]
  },
  {
   "cell_type": "code",
   "execution_count": 103,
   "id": "8f1f8049",
   "metadata": {},
   "outputs": [],
   "source": [
    "client = RESTClient(API_KEY)"
   ]
  },
  {
   "cell_type": "code",
   "execution_count": 240,
   "id": "26ceda69",
   "metadata": {},
   "outputs": [],
   "source": [
    "ticker = 'AAPL'\n",
    "earnings_date = '2022-10-27'\n",
    "expiration_date = '2022-11-04'"
   ]
  },
  {
   "cell_type": "code",
   "execution_count": 105,
   "id": "bc696766",
   "metadata": {},
   "outputs": [],
   "source": [
    "# get the date that is 30 days before expiration\n",
    "start_date = (pd.to_datetime(earnings_date) - dt.timedelta(days=30)).date().strftime('%Y-%m-%d')"
   ]
  },
  {
   "cell_type": "code",
   "execution_count": 106,
   "id": "35a49fa6",
   "metadata": {
    "scrolled": true
   },
   "outputs": [],
   "source": [
    "# create a dataframe of contracts available as of the date specified in 'contracts_as_of'\n",
    "contract_names = []\n",
    "for c in client.list_options_contracts(ticker, limit=1000, as_of=start_date):\n",
    "    contract_names.append(c)\n",
    "\n",
    "df = []\n",
    "for c in contract_names:\n",
    "    df.append({\n",
    "        'expiration date': c.expiration_date,\n",
    "        'type': c.contract_type,\n",
    "        'strike price': c.strike_price,\n",
    "        'option ticker': c.ticker\n",
    "    })\n",
    "    \n",
    "df = pd.DataFrame(df)\n",
    "df['expiration date'] = pd.to_datetime(df['expiration date'])"
   ]
  },
  {
   "cell_type": "code",
   "execution_count": 118,
   "id": "a20c10c5",
   "metadata": {},
   "outputs": [],
   "source": [
    "# get the price of the underlying\n",
    "underlying = client.get_aggs(ticker=ticker, from_=start_date, to=earnings_date, multiplier=1, timespan='day')\n",
    "underlying = pd.DataFrame(underlying)\n",
    "underlying['date'] = pd.to_datetime(underlying['timestamp'] * 1000000)"
   ]
  },
  {
   "cell_type": "code",
   "execution_count": 258,
   "id": "3bbe942e",
   "metadata": {},
   "outputs": [],
   "source": [
    "expiration_mask = df['expiration date'] == expiration_date\n",
    "call_mask = df['type'] == 'call'\n",
    "put_mask = df['type'] == 'put'\n",
    "min_value_mask = round(abs(df[expiration_mask & call_mask]['strike price'] - underlying['close'].iloc[0]).min(), 2)"
   ]
  },
  {
   "cell_type": "code",
   "execution_count": 255,
   "id": "da561324",
   "metadata": {
    "scrolled": true
   },
   "outputs": [
    {
     "data": {
      "text/html": [
       "<div>\n",
       "<style scoped>\n",
       "    .dataframe tbody tr th:only-of-type {\n",
       "        vertical-align: middle;\n",
       "    }\n",
       "\n",
       "    .dataframe tbody tr th {\n",
       "        vertical-align: top;\n",
       "    }\n",
       "\n",
       "    .dataframe thead th {\n",
       "        text-align: right;\n",
       "    }\n",
       "</style>\n",
       "<table border=\"1\" class=\"dataframe\">\n",
       "  <thead>\n",
       "    <tr style=\"text-align: right;\">\n",
       "      <th></th>\n",
       "      <th>expiration date</th>\n",
       "      <th>type</th>\n",
       "      <th>strike price</th>\n",
       "      <th>option ticker</th>\n",
       "    </tr>\n",
       "  </thead>\n",
       "  <tbody>\n",
       "    <tr>\n",
       "      <th>649</th>\n",
       "      <td>2022-11-04</td>\n",
       "      <td>call</td>\n",
       "      <td>152.5</td>\n",
       "      <td>O:AAPL221104C00152500</td>\n",
       "    </tr>\n",
       "    <tr>\n",
       "      <th>702</th>\n",
       "      <td>2022-11-04</td>\n",
       "      <td>put</td>\n",
       "      <td>152.5</td>\n",
       "      <td>O:AAPL221104P00152500</td>\n",
       "    </tr>\n",
       "  </tbody>\n",
       "</table>\n",
       "</div>"
      ],
      "text/plain": [
       "    expiration date  type  strike price          option ticker\n",
       "649      2022-11-04  call         152.5  O:AAPL221104C00152500\n",
       "702      2022-11-04   put         152.5  O:AAPL221104P00152500"
      ]
     },
     "execution_count": 255,
     "metadata": {},
     "output_type": "execute_result"
    }
   ],
   "source": [
    "stock_price = underlying['close'].iloc[0]\n",
    "df.iloc[abs(df[expiration_mask]['strike price'] - stock_price).sort_values().head(2).index]"
   ]
  },
  {
   "cell_type": "code",
   "execution_count": 271,
   "id": "ec8ecca7",
   "metadata": {},
   "outputs": [],
   "source": [
    "call = df.iloc[abs(df[expiration_mask & call_mask]['strike price'] - stock_price).sort_values().head(1).index]\n",
    "put = df.iloc[abs(df[expiration_mask & put_mask]['strike price'] - stock_price).sort_values().head(1).index]"
   ]
  },
  {
   "cell_type": "code",
   "execution_count": 280,
   "id": "7f10fda4",
   "metadata": {},
   "outputs": [],
   "source": [
    "def get_net_pnl(call_df, put_df):\n",
    "    call = client.get_aggs(\n",
    "        ticker = call_df['option ticker'].iloc[0],\n",
    "        limit=50000,\n",
    "        multiplier = 1, \n",
    "        timespan = 'day', \n",
    "        from_ = start_date, \n",
    "        to = earnings_date)\n",
    "    put = client.get_aggs(\n",
    "        ticker = put_df['option ticker'].iloc[0],\n",
    "        limit=50000,\n",
    "        multiplier = 1, \n",
    "        timespan = 'day', \n",
    "        from_ = start_date, \n",
    "        to = earnings_date)\n",
    "    call = pd.DataFrame(call)\n",
    "    call['date'] = pd.to_datetime(call['timestamp'] * 1000000)\n",
    "\n",
    "    put = pd.DataFrame(put)\n",
    "    put['date'] = pd.to_datetime(put['timestamp'] * 1000000)\n",
    "    \n",
    "    net_df = pd.DataFrame()\n",
    "    net_df['close'] = call['close'] + put['close']\n",
    "    net_df['date'] = call['date']\n",
    "    return net_df"
   ]
  },
  {
   "cell_type": "code",
   "execution_count": 281,
   "id": "20b8d0e2",
   "metadata": {},
   "outputs": [],
   "source": [
    "net_df = get_net_pnl(call, put)"
   ]
  },
  {
   "cell_type": "code",
   "execution_count": 282,
   "id": "5cf8adf8",
   "metadata": {},
   "outputs": [
    {
     "data": {
      "text/html": [
       "<div>\n",
       "<style scoped>\n",
       "    .dataframe tbody tr th:only-of-type {\n",
       "        vertical-align: middle;\n",
       "    }\n",
       "\n",
       "    .dataframe tbody tr th {\n",
       "        vertical-align: top;\n",
       "    }\n",
       "\n",
       "    .dataframe thead th {\n",
       "        text-align: right;\n",
       "    }\n",
       "</style>\n",
       "<table border=\"1\" class=\"dataframe\">\n",
       "  <thead>\n",
       "    <tr style=\"text-align: right;\">\n",
       "      <th></th>\n",
       "      <th>close</th>\n",
       "      <th>date</th>\n",
       "    </tr>\n",
       "  </thead>\n",
       "  <tbody>\n",
       "    <tr>\n",
       "      <th>0</th>\n",
       "      <td>15.97</td>\n",
       "      <td>2022-09-27 04:00:00</td>\n",
       "    </tr>\n",
       "    <tr>\n",
       "      <th>1</th>\n",
       "      <td>15.33</td>\n",
       "      <td>2022-09-28 04:00:00</td>\n",
       "    </tr>\n",
       "    <tr>\n",
       "      <th>2</th>\n",
       "      <td>17.43</td>\n",
       "      <td>2022-09-29 04:00:00</td>\n",
       "    </tr>\n",
       "    <tr>\n",
       "      <th>3</th>\n",
       "      <td>17.09</td>\n",
       "      <td>2022-09-30 04:00:00</td>\n",
       "    </tr>\n",
       "    <tr>\n",
       "      <th>4</th>\n",
       "      <td>14.90</td>\n",
       "      <td>2022-10-03 04:00:00</td>\n",
       "    </tr>\n",
       "    <tr>\n",
       "      <th>5</th>\n",
       "      <td>14.05</td>\n",
       "      <td>2022-10-04 04:00:00</td>\n",
       "    </tr>\n",
       "    <tr>\n",
       "      <th>6</th>\n",
       "      <td>15.40</td>\n",
       "      <td>2022-10-05 04:00:00</td>\n",
       "    </tr>\n",
       "    <tr>\n",
       "      <th>7</th>\n",
       "      <td>13.82</td>\n",
       "      <td>2022-10-06 04:00:00</td>\n",
       "    </tr>\n",
       "    <tr>\n",
       "      <th>8</th>\n",
       "      <td>15.97</td>\n",
       "      <td>2022-10-07 04:00:00</td>\n",
       "    </tr>\n",
       "    <tr>\n",
       "      <th>9</th>\n",
       "      <td>15.62</td>\n",
       "      <td>2022-10-10 04:00:00</td>\n",
       "    </tr>\n",
       "    <tr>\n",
       "      <th>10</th>\n",
       "      <td>16.53</td>\n",
       "      <td>2022-10-11 04:00:00</td>\n",
       "    </tr>\n",
       "    <tr>\n",
       "      <th>11</th>\n",
       "      <td>17.20</td>\n",
       "      <td>2022-10-12 04:00:00</td>\n",
       "    </tr>\n",
       "    <tr>\n",
       "      <th>12</th>\n",
       "      <td>16.60</td>\n",
       "      <td>2022-10-13 04:00:00</td>\n",
       "    </tr>\n",
       "    <tr>\n",
       "      <th>13</th>\n",
       "      <td>16.53</td>\n",
       "      <td>2022-10-14 04:00:00</td>\n",
       "    </tr>\n",
       "    <tr>\n",
       "      <th>14</th>\n",
       "      <td>13.55</td>\n",
       "      <td>2022-10-17 04:00:00</td>\n",
       "    </tr>\n",
       "    <tr>\n",
       "      <th>15</th>\n",
       "      <td>14.14</td>\n",
       "      <td>2022-10-18 04:00:00</td>\n",
       "    </tr>\n",
       "    <tr>\n",
       "      <th>16</th>\n",
       "      <td>12.71</td>\n",
       "      <td>2022-10-19 04:00:00</td>\n",
       "    </tr>\n",
       "    <tr>\n",
       "      <th>17</th>\n",
       "      <td>12.54</td>\n",
       "      <td>2022-10-20 04:00:00</td>\n",
       "    </tr>\n",
       "    <tr>\n",
       "      <th>18</th>\n",
       "      <td>10.44</td>\n",
       "      <td>2022-10-21 04:00:00</td>\n",
       "    </tr>\n",
       "    <tr>\n",
       "      <th>19</th>\n",
       "      <td>9.85</td>\n",
       "      <td>2022-10-24 04:00:00</td>\n",
       "    </tr>\n",
       "    <tr>\n",
       "      <th>20</th>\n",
       "      <td>9.17</td>\n",
       "      <td>2022-10-25 04:00:00</td>\n",
       "    </tr>\n",
       "    <tr>\n",
       "      <th>21</th>\n",
       "      <td>9.60</td>\n",
       "      <td>2022-10-26 04:00:00</td>\n",
       "    </tr>\n",
       "    <tr>\n",
       "      <th>22</th>\n",
       "      <td>11.68</td>\n",
       "      <td>2022-10-27 04:00:00</td>\n",
       "    </tr>\n",
       "  </tbody>\n",
       "</table>\n",
       "</div>"
      ],
      "text/plain": [
       "    close                date\n",
       "0   15.97 2022-09-27 04:00:00\n",
       "1   15.33 2022-09-28 04:00:00\n",
       "2   17.43 2022-09-29 04:00:00\n",
       "3   17.09 2022-09-30 04:00:00\n",
       "4   14.90 2022-10-03 04:00:00\n",
       "5   14.05 2022-10-04 04:00:00\n",
       "6   15.40 2022-10-05 04:00:00\n",
       "7   13.82 2022-10-06 04:00:00\n",
       "8   15.97 2022-10-07 04:00:00\n",
       "9   15.62 2022-10-10 04:00:00\n",
       "10  16.53 2022-10-11 04:00:00\n",
       "11  17.20 2022-10-12 04:00:00\n",
       "12  16.60 2022-10-13 04:00:00\n",
       "13  16.53 2022-10-14 04:00:00\n",
       "14  13.55 2022-10-17 04:00:00\n",
       "15  14.14 2022-10-18 04:00:00\n",
       "16  12.71 2022-10-19 04:00:00\n",
       "17  12.54 2022-10-20 04:00:00\n",
       "18  10.44 2022-10-21 04:00:00\n",
       "19   9.85 2022-10-24 04:00:00\n",
       "20   9.17 2022-10-25 04:00:00\n",
       "21   9.60 2022-10-26 04:00:00\n",
       "22  11.68 2022-10-27 04:00:00"
      ]
     },
     "execution_count": 282,
     "metadata": {},
     "output_type": "execute_result"
    }
   ],
   "source": [
    "net_df"
   ]
  },
  {
   "cell_type": "code",
   "execution_count": null,
   "id": "b9487ada",
   "metadata": {},
   "outputs": [],
   "source": []
  },
  {
   "cell_type": "code",
   "execution_count": null,
   "id": "a1e23fd9",
   "metadata": {},
   "outputs": [],
   "source": []
  },
  {
   "cell_type": "code",
   "execution_count": null,
   "id": "5b594da1",
   "metadata": {},
   "outputs": [],
   "source": []
  },
  {
   "cell_type": "code",
   "execution_count": null,
   "id": "967b470b",
   "metadata": {},
   "outputs": [],
   "source": []
  },
  {
   "cell_type": "code",
   "execution_count": null,
   "id": "0afa5acf",
   "metadata": {},
   "outputs": [],
   "source": []
  },
  {
   "cell_type": "code",
   "execution_count": null,
   "id": "c3c2c27f",
   "metadata": {},
   "outputs": [],
   "source": []
  },
  {
   "cell_type": "markdown",
   "id": "5c0b5727",
   "metadata": {},
   "source": [
    "# Find valid trading dates"
   ]
  },
  {
   "cell_type": "code",
   "execution_count": 77,
   "id": "184645eb",
   "metadata": {},
   "outputs": [
    {
     "data": {
      "text/plain": [
       "DatetimeIndex(['2022-09-27', '2022-09-28', '2022-09-29', '2022-09-30',\n",
       "               '2022-10-01', '2022-10-02', '2022-10-03', '2022-10-04',\n",
       "               '2022-10-05', '2022-10-06', '2022-10-07', '2022-10-08',\n",
       "               '2022-10-09', '2022-10-10', '2022-10-11', '2022-10-12',\n",
       "               '2022-10-13', '2022-10-14', '2022-10-15', '2022-10-16',\n",
       "               '2022-10-17', '2022-10-18', '2022-10-19', '2022-10-20',\n",
       "               '2022-10-21', '2022-10-22', '2022-10-23', '2022-10-24',\n",
       "               '2022-10-25', '2022-10-26', '2022-10-27'],\n",
       "              dtype='datetime64[ns]', freq='D')"
      ]
     },
     "execution_count": 77,
     "metadata": {},
     "output_type": "execute_result"
    }
   ],
   "source": [
    "trading_days = []\n",
    "pd.date_range(start_date, earnings_date)"
   ]
  },
  {
   "cell_type": "code",
   "execution_count": 85,
   "id": "7ad73870",
   "metadata": {},
   "outputs": [
    {
     "name": "stdout",
     "output_type": "stream",
     "text": [
      "2022-09-27 00:00:00\n",
      "2022-09-28 00:00:00\n",
      "2022-09-29 00:00:00\n",
      "2022-09-30 00:00:00\n",
      "2022-10-03 00:00:00\n",
      "2022-10-04 00:00:00\n",
      "2022-10-05 00:00:00\n",
      "2022-10-06 00:00:00\n",
      "2022-10-07 00:00:00\n",
      "2022-10-10 00:00:00\n",
      "2022-10-11 00:00:00\n",
      "2022-10-12 00:00:00\n",
      "2022-10-13 00:00:00\n",
      "2022-10-14 00:00:00\n",
      "2022-10-17 00:00:00\n",
      "2022-10-18 00:00:00\n",
      "2022-10-19 00:00:00\n",
      "2022-10-20 00:00:00\n",
      "2022-10-21 00:00:00\n",
      "2022-10-24 00:00:00\n",
      "2022-10-25 00:00:00\n",
      "2022-10-26 00:00:00\n",
      "2022-10-27 00:00:00\n"
     ]
    }
   ],
   "source": [
    "for date in pd.date_range(start_date, earnings_date):\n",
    "    if date.dayofweek != 5 and date.dayofweek != 6:\n",
    "        print(date)"
   ]
  },
  {
   "cell_type": "code",
   "execution_count": 86,
   "id": "30e04a9a",
   "metadata": {},
   "outputs": [],
   "source": [
    "nyse = mcal.get_calendar('NYSE')"
   ]
  },
  {
   "cell_type": "code",
   "execution_count": 99,
   "id": "33988f72",
   "metadata": {
    "scrolled": true
   },
   "outputs": [],
   "source": [
    "valid_dates = nyse.valid_days(start_date=start_date, end_date=earnings_date)\n",
    "valid_dates = [date.date().strftime('%Y-%m-%d') for date in valid_dates]"
   ]
  }
 ],
 "metadata": {
  "kernelspec": {
   "display_name": "Python [conda env:options-backtester]",
   "language": "python",
   "name": "conda-env-options-backtester-py"
  },
  "language_info": {
   "codemirror_mode": {
    "name": "ipython",
    "version": 3
   },
   "file_extension": ".py",
   "mimetype": "text/x-python",
   "name": "python",
   "nbconvert_exporter": "python",
   "pygments_lexer": "ipython3",
   "version": "3.10.8"
  }
 },
 "nbformat": 4,
 "nbformat_minor": 5
}
