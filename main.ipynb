{
 "cells": [
  {
   "cell_type": "code",
   "execution_count": 1,
   "id": "5b03bfd4",
   "metadata": {},
   "outputs": [],
   "source": [
    "# import visualization packages\n",
    "from polygon import RESTClient\n",
    "import plotly.graph_objects as go\n",
    "from plotly.offline import plot\n",
    "import plotly.express as px\n",
    "\n",
    "# import pandas and datetime\n",
    "import pandas_market_calendars as mcal\n",
    "import pandas as pd\n",
    "import datetime as dt\n",
    "import time\n",
    "import warnings\n",
    "warnings.filterwarnings('ignore')\n",
    "\n",
    "# import API_KEY from config\n",
    "from config import *"
   ]
  },
  {
   "cell_type": "code",
   "execution_count": 2,
   "id": "5173bc7b",
   "metadata": {},
   "outputs": [],
   "source": [
    "# Enter desire ticker\n",
    "ticker = 'AAPL'"
   ]
  },
  {
   "cell_type": "markdown",
   "id": "64fc92d2",
   "metadata": {},
   "source": [
    "# Find valid trading dates"
   ]
  },
  {
   "cell_type": "code",
   "execution_count": 3,
   "id": "7c4e4bb9",
   "metadata": {},
   "outputs": [],
   "source": [
    "# get the date that is 30 days before expiration\n",
    "earnings_date = '2022-10-28'\n",
    "expiration_date = '2022-11-04'\n",
    "start_date = (pd.to_datetime(earnings_date) - dt.timedelta(days=30)).date().strftime('%Y-%m-%d')"
   ]
  },
  {
   "cell_type": "code",
   "execution_count": 4,
   "id": "1b7ddfdf",
   "metadata": {},
   "outputs": [],
   "source": [
    "nyse = mcal.get_calendar('NYSE')"
   ]
  },
  {
   "cell_type": "code",
   "execution_count": 5,
   "id": "dad0434e",
   "metadata": {
    "scrolled": true
   },
   "outputs": [],
   "source": [
    "valid_dates = nyse.valid_days(start_date=start_date, end_date=earnings_date)\n",
    "valid_dates = [date.date().strftime('%Y-%m-%d') for date in valid_dates]"
   ]
  },
  {
   "cell_type": "code",
   "execution_count": 6,
   "id": "f11bd089",
   "metadata": {},
   "outputs": [],
   "source": [
    "client = RESTClient(API_KEY)"
   ]
  },
  {
   "cell_type": "code",
   "execution_count": 7,
   "id": "b32ae131",
   "metadata": {},
   "outputs": [],
   "source": [
    "def get_net_pnl(call_df, put_df, start_date):\n",
    "    call = client.get_aggs(\n",
    "        ticker = call_df['option ticker'].iloc[0],\n",
    "        limit=50000,\n",
    "        multiplier = 1, \n",
    "        timespan = 'day', \n",
    "        from_ = start_date, \n",
    "        to = earnings_date)\n",
    "    put = client.get_aggs(\n",
    "        ticker = put_df['option ticker'].iloc[0],\n",
    "        limit=50000,\n",
    "        multiplier = 1, \n",
    "        timespan = 'day', \n",
    "        from_ = start_date, \n",
    "        to = earnings_date)\n",
    "    call = pd.DataFrame(call)\n",
    "    call['date'] = pd.to_datetime(call['timestamp'] * 1000000)\n",
    "\n",
    "    put = pd.DataFrame(put)\n",
    "    put['date'] = pd.to_datetime(put['timestamp'] * 1000000)\n",
    "    \n",
    "    # create dataframe of net close of straddle\n",
    "    net_df = pd.DataFrame()\n",
    "    net_df['close'] = call['close'] + put['close']\n",
    "    \n",
    "    # creates column name based on how many days before earnings the straddle was placed\n",
    "    col_name = f'{len(net_df)} days'\n",
    "    net_df[col_name] = round(((net_df['close'] - net_df['close'].iloc[0]) / net_df['close'].iloc[0]) * 100, 2)\n",
    "    \n",
    "    # just copy the date column from call and use it for the net_df\n",
    "    net_df['date'] = call['date']\n",
    "    \n",
    "    # create a 'days remaining' before earnings column\n",
    "#     net_df['days remaining'] = sorted(range(len(net_df)), reverse=True)\n",
    "    \n",
    "    net_df.drop('close', axis=1, inplace=True)\n",
    "    return net_df"
   ]
  },
  {
   "cell_type": "code",
   "execution_count": 8,
   "id": "090c2341",
   "metadata": {},
   "outputs": [],
   "source": [
    "contracts_df = []\n",
    "for c in client.list_options_contracts(ticker, limit=1000, as_of=earnings_date):\n",
    "    contracts_df.append({\n",
    "        'expiration date': c.expiration_date,\n",
    "        'type': c.contract_type,\n",
    "        'strike price': c.strike_price,\n",
    "        'option ticker': c.ticker\n",
    "    })\n",
    "contracts_df = pd.DataFrame(contracts_df)\n",
    "contracts_df['expiration date'] = pd.to_datetime(contracts_df['expiration date'])"
   ]
  },
  {
   "cell_type": "code",
   "execution_count": 9,
   "id": "018638b4",
   "metadata": {},
   "outputs": [],
   "source": [
    "# get the price history of the underlying ticker from the start_date to earnings_date \n",
    "underlying = client.get_aggs(ticker=ticker, from_=start_date, to=earnings_date, multiplier=1, timespan='day')\n",
    "underlying = pd.DataFrame(underlying)\n",
    "underlying['date'] = pd.to_datetime(underlying['timestamp'] * 1000000).dt.date"
   ]
  },
  {
   "cell_type": "code",
   "execution_count": 10,
   "id": "3c21514f",
   "metadata": {},
   "outputs": [],
   "source": [
    "expiration_mask = contracts_df['expiration date'] == expiration_date\n",
    "call_mask = contracts_df['type'] == 'call'\n",
    "put_mask = contracts_df['type'] == 'put'"
   ]
  },
  {
   "cell_type": "code",
   "execution_count": 11,
   "id": "f546a279",
   "metadata": {
    "scrolled": true
   },
   "outputs": [],
   "source": [
    "list_of_df = []\n",
    "for date in valid_dates:\n",
    "    start_date = date\n",
    "    \n",
    "    start_date_mask = underlying['date'] == pd.to_datetime(start_date)\n",
    "    stock_price = underlying[start_date_mask]['close']\n",
    "    contracts_df.iloc[abs(contracts_df[expiration_mask]['strike price'] - stock_price.iloc[0]).sort_values().head(2).index]\n",
    "    \n",
    "    call = contracts_df.iloc[abs(contracts_df[expiration_mask & call_mask]['strike price'] - stock_price.iloc[0]).sort_values().head(1).index]\n",
    "    put = contracts_df.iloc[abs(contracts_df[expiration_mask & put_mask]['strike price'] - stock_price.iloc[0]).sort_values().head(1).index]\n",
    "    \n",
    "    list_of_df.append(get_net_pnl(call, put, start_date))\n",
    "#     time.sleep(1)"
   ]
  },
  {
   "cell_type": "code",
   "execution_count": 45,
   "id": "c0d1a132",
   "metadata": {},
   "outputs": [],
   "source": [
    "all_df = pd.DataFrame(columns=['date'])\n",
    "for dframe in list_of_df:\n",
    "    all_df = pd.merge(all_df, dframe, how='outer', on='date')\n",
    "\n",
    "# use this to make 'days remaining' the x-axis\n",
    "all_df['days remaining'] = sorted(range(len(all_df)), reverse=True)\n",
    "all_df['days remaining'] = all_df['days remaining'].astype('str') \n",
    "all_df['days remaining'].iloc[-1] = 'After Earnings'\n",
    "all_df.set_index('days remaining', inplace=True)\n",
    "all_df.drop('date', axis=1, inplace=True)\n",
    "\n",
    "# use code below to make date the x-axis instead\n",
    "# all_df.set_index('date', inplace=True)"
   ]
  },
  {
   "cell_type": "code",
   "execution_count": 44,
   "id": "bd10d202",
   "metadata": {
    "scrolled": false
   },
   "outputs": [
    {
     "data": {
      "application/vnd.plotly.v1+json": {
       "config": {
        "plotlyServerURL": "https://plot.ly"
       },
       "data": [
        {
         "coloraxis": "coloraxis",
         "hovertemplate": "days remaining: %{x}<br>y: %{y}<br>color: %{z}<extra></extra>",
         "name": "0",
         "texttemplate": "%{z}",
         "type": "heatmap",
         "x": [
          "22",
          "21",
          "20",
          "19",
          "18",
          "17",
          "16",
          "15",
          "14",
          "13",
          "12",
          "11",
          "10",
          "9",
          "8",
          "7",
          "6",
          "5",
          "4",
          "3",
          "2",
          "1",
          "After Earnings"
         ],
         "xaxis": "x",
         "y": [
          "23 days",
          "22 days",
          "21 days",
          "20 days",
          "19 days",
          "18 days",
          "17 days",
          "16 days",
          "15 days",
          "14 days",
          "13 days",
          "12 days",
          "11 days",
          "10 days",
          "9 days",
          "8 days",
          "7 days",
          "6 days",
          "5 days",
          "4 days",
          "3 days",
          "2 days",
          "1 days"
         ],
         "yaxis": "y",
         "z": [
          [
           0,
           5.26,
           2.04,
           -6.04,
           -11.56,
           -12.81,
           -13.6,
           -1.12,
           -5.26,
           1.05,
           0.39,
           -12.55,
           0.26,
           -18.99,
           -20.24,
           -22.01,
           -25.23,
           -33.84,
           -35.94,
           -36.6,
           -38.57,
           -29.04,
           -48.36
          ],
          [
           null,
           0,
           -4.71,
           -10.32,
           -10.32,
           -5.61,
           -7.42,
           -13.87,
           -17.1,
           -15.87,
           -17.1,
           -18.52,
           -21.94,
           -26.77,
           -26.45,
           -30.32,
           -32.65,
           -27.35,
           -22.52,
           -15.94,
           -27.61,
           -28.77,
           -8
          ],
          [
           null,
           null,
           0,
           -0.33,
           -0.66,
           4.62,
           1.39,
           -9.57,
           -9.04,
           -14.19,
           -14.65,
           -12.54,
           -20,
           -18.48,
           -11.75,
           -21.32,
           -25.08,
           -21.39,
           -4.69,
           0.33,
           -10.63,
           -18.09,
           20.33
          ],
          [
           null,
           null,
           null,
           0,
           0,
           5.25,
           3.24,
           -3.96,
           -7.55,
           -6.19,
           -7.55,
           -9.14,
           -12.95,
           -18.35,
           -17.99,
           -22.3,
           -24.89,
           -18.99,
           -13.6,
           -6.26,
           -19.28,
           -20.58,
           2.59
          ],
          [
           null,
           null,
           null,
           null,
           0,
           1.61,
           1.53,
           5.75,
           0.38,
           5.29,
           4.98,
           -7.28,
           0,
           -11.49,
           -12.49,
           -15.33,
           -21.07,
           -22.45,
           -19.92,
           -15.79,
           -24.14,
           -20.31,
           -17.47
          ],
          [
           null,
           null,
           null,
           null,
           null,
           0,
           -0.08,
           4.07,
           -1.21,
           3.62,
           3.32,
           -8.75,
           -1.58,
           -12.9,
           -13.88,
           -16.67,
           -22.32,
           -23.68,
           -21.19,
           -17.12,
           -25.34,
           -21.57,
           -18.78
          ],
          [
           null,
           null,
           null,
           null,
           null,
           null,
           0,
           0.37,
           -3.73,
           -0.52,
           0.75,
           -8.51,
           -3.96,
           -15.45,
           -14.18,
           -18.28,
           -23.51,
           -22.16,
           -20.6,
           -14.18,
           -24.25,
           -21.27,
           -13.88
          ],
          [
           null,
           null,
           null,
           null,
           null,
           null,
           null,
           0,
           0.97,
           -3.97,
           -3,
           -4.12,
           -9.66,
           -13.18,
           -14.01,
           -15.21,
           -18.35,
           -9.36,
           -2.55,
           8.46,
           -7.04,
           -13.78,
           20.6
          ],
          [
           null,
           null,
           null,
           null,
           null,
           null,
           null,
           null,
           0,
           -4.9,
           -3.93,
           -5.04,
           -10.53,
           -14.02,
           -14.84,
           -16.02,
           -19.14,
           -10.24,
           -3.49,
           7.42,
           -7.94,
           -14.61,
           19.44
          ],
          [
           null,
           null,
           null,
           null,
           null,
           null,
           null,
           null,
           null,
           0,
           -0.92,
           1.15,
           -7.53,
           -6.68,
           -14.36,
           -10.14,
           -13.21,
           -3.46,
           5.22,
           17.67,
           -1.31,
           -7.45,
           31.11
          ],
          [
           null,
           null,
           null,
           null,
           null,
           null,
           null,
           null,
           null,
           null,
           0,
           2.47,
           -6.26,
           -4.49,
           3.4,
           -7.81,
           -12.22,
           -7.89,
           11.68,
           17.56,
           4.72,
           -4.02,
           40.99
          ],
          [
           null,
           null,
           null,
           null,
           null,
           null,
           null,
           null,
           null,
           null,
           null,
           0,
           -0.81,
           -10.4,
           -7.98,
           -11.69,
           -16.94,
           -11.69,
           -7.5,
           1.37,
           -11.77,
           -12.9,
           9.35
          ],
          [
           null,
           null,
           null,
           null,
           null,
           null,
           null,
           null,
           null,
           null,
           null,
           null,
           0,
           1.9,
           10.31,
           -1.65,
           -6.35,
           -1.73,
           19.14,
           25.41,
           11.72,
           2.39,
           50.41
          ],
          [
           null,
           null,
           null,
           null,
           null,
           null,
           null,
           null,
           null,
           null,
           null,
           null,
           null,
           0,
           0.44,
           -4.85,
           -8.02,
           -0.79,
           5.81,
           14.8,
           -1.15,
           -2.73,
           25.64
          ],
          [
           null,
           null,
           null,
           null,
           null,
           null,
           null,
           null,
           null,
           null,
           null,
           null,
           null,
           null,
           0,
           3.69,
           -4.33,
           -2.12,
           2.3,
           8.66,
           -2.95,
           -3.23,
           17.14
          ],
          [
           null,
           null,
           null,
           null,
           null,
           null,
           null,
           null,
           null,
           null,
           null,
           null,
           null,
           null,
           null,
           0,
           -7.73,
           -5.6,
           -1.33,
           4.8,
           -6.4,
           -6.67,
           12.98
          ],
          [
           null,
           null,
           null,
           null,
           null,
           null,
           null,
           null,
           null,
           null,
           null,
           null,
           null,
           null,
           null,
           null,
           0,
           6.31,
           11.36,
           22.04,
           6.21,
           4.85,
           31.65
          ],
          [
           null,
           null,
           null,
           null,
           null,
           null,
           null,
           null,
           null,
           null,
           null,
           null,
           null,
           null,
           null,
           null,
           null,
           0,
           0.59,
           3.44,
           -6.39,
           2.55,
           -2.55
          ],
          [
           null,
           null,
           null,
           null,
           null,
           null,
           null,
           null,
           null,
           null,
           null,
           null,
           null,
           null,
           null,
           null,
           null,
           null,
           0,
           -0.4,
           -5.43,
           7.24,
           -14.39
          ],
          [
           null,
           null,
           null,
           null,
           null,
           null,
           null,
           null,
           null,
           null,
           null,
           null,
           null,
           null,
           null,
           null,
           null,
           null,
           null,
           0,
           4.69,
           27.37,
           -28.03
          ],
          [
           null,
           null,
           null,
           null,
           null,
           null,
           null,
           null,
           null,
           null,
           null,
           null,
           null,
           null,
           null,
           null,
           null,
           null,
           null,
           null,
           0,
           13.4,
           -9.47
          ],
          [
           null,
           null,
           null,
           null,
           null,
           null,
           null,
           null,
           null,
           null,
           null,
           null,
           null,
           null,
           null,
           null,
           null,
           null,
           null,
           null,
           null,
           0,
           9.38
          ],
          [
           null,
           null,
           null,
           null,
           null,
           null,
           null,
           null,
           null,
           null,
           null,
           null,
           null,
           null,
           null,
           null,
           null,
           null,
           null,
           null,
           null,
           null,
           0
          ]
         ]
        }
       ],
       "layout": {
        "coloraxis": {
         "cmax": 100,
         "cmin": -100,
         "colorscale": [
          [
           0,
           "red"
          ],
          [
           0.5,
           "white"
          ],
          [
           1,
           "green"
          ]
         ]
        },
        "margin": {
         "t": 60
        },
        "template": {
         "data": {
          "bar": [
           {
            "error_x": {
             "color": "#2a3f5f"
            },
            "error_y": {
             "color": "#2a3f5f"
            },
            "marker": {
             "line": {
              "color": "#E5ECF6",
              "width": 0.5
             },
             "pattern": {
              "fillmode": "overlay",
              "size": 10,
              "solidity": 0.2
             }
            },
            "type": "bar"
           }
          ],
          "barpolar": [
           {
            "marker": {
             "line": {
              "color": "#E5ECF6",
              "width": 0.5
             },
             "pattern": {
              "fillmode": "overlay",
              "size": 10,
              "solidity": 0.2
             }
            },
            "type": "barpolar"
           }
          ],
          "carpet": [
           {
            "aaxis": {
             "endlinecolor": "#2a3f5f",
             "gridcolor": "white",
             "linecolor": "white",
             "minorgridcolor": "white",
             "startlinecolor": "#2a3f5f"
            },
            "baxis": {
             "endlinecolor": "#2a3f5f",
             "gridcolor": "white",
             "linecolor": "white",
             "minorgridcolor": "white",
             "startlinecolor": "#2a3f5f"
            },
            "type": "carpet"
           }
          ],
          "choropleth": [
           {
            "colorbar": {
             "outlinewidth": 0,
             "ticks": ""
            },
            "type": "choropleth"
           }
          ],
          "contour": [
           {
            "colorbar": {
             "outlinewidth": 0,
             "ticks": ""
            },
            "colorscale": [
             [
              0,
              "#0d0887"
             ],
             [
              0.1111111111111111,
              "#46039f"
             ],
             [
              0.2222222222222222,
              "#7201a8"
             ],
             [
              0.3333333333333333,
              "#9c179e"
             ],
             [
              0.4444444444444444,
              "#bd3786"
             ],
             [
              0.5555555555555556,
              "#d8576b"
             ],
             [
              0.6666666666666666,
              "#ed7953"
             ],
             [
              0.7777777777777778,
              "#fb9f3a"
             ],
             [
              0.8888888888888888,
              "#fdca26"
             ],
             [
              1,
              "#f0f921"
             ]
            ],
            "type": "contour"
           }
          ],
          "contourcarpet": [
           {
            "colorbar": {
             "outlinewidth": 0,
             "ticks": ""
            },
            "type": "contourcarpet"
           }
          ],
          "heatmap": [
           {
            "colorbar": {
             "outlinewidth": 0,
             "ticks": ""
            },
            "colorscale": [
             [
              0,
              "#0d0887"
             ],
             [
              0.1111111111111111,
              "#46039f"
             ],
             [
              0.2222222222222222,
              "#7201a8"
             ],
             [
              0.3333333333333333,
              "#9c179e"
             ],
             [
              0.4444444444444444,
              "#bd3786"
             ],
             [
              0.5555555555555556,
              "#d8576b"
             ],
             [
              0.6666666666666666,
              "#ed7953"
             ],
             [
              0.7777777777777778,
              "#fb9f3a"
             ],
             [
              0.8888888888888888,
              "#fdca26"
             ],
             [
              1,
              "#f0f921"
             ]
            ],
            "type": "heatmap"
           }
          ],
          "heatmapgl": [
           {
            "colorbar": {
             "outlinewidth": 0,
             "ticks": ""
            },
            "colorscale": [
             [
              0,
              "#0d0887"
             ],
             [
              0.1111111111111111,
              "#46039f"
             ],
             [
              0.2222222222222222,
              "#7201a8"
             ],
             [
              0.3333333333333333,
              "#9c179e"
             ],
             [
              0.4444444444444444,
              "#bd3786"
             ],
             [
              0.5555555555555556,
              "#d8576b"
             ],
             [
              0.6666666666666666,
              "#ed7953"
             ],
             [
              0.7777777777777778,
              "#fb9f3a"
             ],
             [
              0.8888888888888888,
              "#fdca26"
             ],
             [
              1,
              "#f0f921"
             ]
            ],
            "type": "heatmapgl"
           }
          ],
          "histogram": [
           {
            "marker": {
             "pattern": {
              "fillmode": "overlay",
              "size": 10,
              "solidity": 0.2
             }
            },
            "type": "histogram"
           }
          ],
          "histogram2d": [
           {
            "colorbar": {
             "outlinewidth": 0,
             "ticks": ""
            },
            "colorscale": [
             [
              0,
              "#0d0887"
             ],
             [
              0.1111111111111111,
              "#46039f"
             ],
             [
              0.2222222222222222,
              "#7201a8"
             ],
             [
              0.3333333333333333,
              "#9c179e"
             ],
             [
              0.4444444444444444,
              "#bd3786"
             ],
             [
              0.5555555555555556,
              "#d8576b"
             ],
             [
              0.6666666666666666,
              "#ed7953"
             ],
             [
              0.7777777777777778,
              "#fb9f3a"
             ],
             [
              0.8888888888888888,
              "#fdca26"
             ],
             [
              1,
              "#f0f921"
             ]
            ],
            "type": "histogram2d"
           }
          ],
          "histogram2dcontour": [
           {
            "colorbar": {
             "outlinewidth": 0,
             "ticks": ""
            },
            "colorscale": [
             [
              0,
              "#0d0887"
             ],
             [
              0.1111111111111111,
              "#46039f"
             ],
             [
              0.2222222222222222,
              "#7201a8"
             ],
             [
              0.3333333333333333,
              "#9c179e"
             ],
             [
              0.4444444444444444,
              "#bd3786"
             ],
             [
              0.5555555555555556,
              "#d8576b"
             ],
             [
              0.6666666666666666,
              "#ed7953"
             ],
             [
              0.7777777777777778,
              "#fb9f3a"
             ],
             [
              0.8888888888888888,
              "#fdca26"
             ],
             [
              1,
              "#f0f921"
             ]
            ],
            "type": "histogram2dcontour"
           }
          ],
          "mesh3d": [
           {
            "colorbar": {
             "outlinewidth": 0,
             "ticks": ""
            },
            "type": "mesh3d"
           }
          ],
          "parcoords": [
           {
            "line": {
             "colorbar": {
              "outlinewidth": 0,
              "ticks": ""
             }
            },
            "type": "parcoords"
           }
          ],
          "pie": [
           {
            "automargin": true,
            "type": "pie"
           }
          ],
          "scatter": [
           {
            "fillpattern": {
             "fillmode": "overlay",
             "size": 10,
             "solidity": 0.2
            },
            "type": "scatter"
           }
          ],
          "scatter3d": [
           {
            "line": {
             "colorbar": {
              "outlinewidth": 0,
              "ticks": ""
             }
            },
            "marker": {
             "colorbar": {
              "outlinewidth": 0,
              "ticks": ""
             }
            },
            "type": "scatter3d"
           }
          ],
          "scattercarpet": [
           {
            "marker": {
             "colorbar": {
              "outlinewidth": 0,
              "ticks": ""
             }
            },
            "type": "scattercarpet"
           }
          ],
          "scattergeo": [
           {
            "marker": {
             "colorbar": {
              "outlinewidth": 0,
              "ticks": ""
             }
            },
            "type": "scattergeo"
           }
          ],
          "scattergl": [
           {
            "marker": {
             "colorbar": {
              "outlinewidth": 0,
              "ticks": ""
             }
            },
            "type": "scattergl"
           }
          ],
          "scattermapbox": [
           {
            "marker": {
             "colorbar": {
              "outlinewidth": 0,
              "ticks": ""
             }
            },
            "type": "scattermapbox"
           }
          ],
          "scatterpolar": [
           {
            "marker": {
             "colorbar": {
              "outlinewidth": 0,
              "ticks": ""
             }
            },
            "type": "scatterpolar"
           }
          ],
          "scatterpolargl": [
           {
            "marker": {
             "colorbar": {
              "outlinewidth": 0,
              "ticks": ""
             }
            },
            "type": "scatterpolargl"
           }
          ],
          "scatterternary": [
           {
            "marker": {
             "colorbar": {
              "outlinewidth": 0,
              "ticks": ""
             }
            },
            "type": "scatterternary"
           }
          ],
          "surface": [
           {
            "colorbar": {
             "outlinewidth": 0,
             "ticks": ""
            },
            "colorscale": [
             [
              0,
              "#0d0887"
             ],
             [
              0.1111111111111111,
              "#46039f"
             ],
             [
              0.2222222222222222,
              "#7201a8"
             ],
             [
              0.3333333333333333,
              "#9c179e"
             ],
             [
              0.4444444444444444,
              "#bd3786"
             ],
             [
              0.5555555555555556,
              "#d8576b"
             ],
             [
              0.6666666666666666,
              "#ed7953"
             ],
             [
              0.7777777777777778,
              "#fb9f3a"
             ],
             [
              0.8888888888888888,
              "#fdca26"
             ],
             [
              1,
              "#f0f921"
             ]
            ],
            "type": "surface"
           }
          ],
          "table": [
           {
            "cells": {
             "fill": {
              "color": "#EBF0F8"
             },
             "line": {
              "color": "white"
             }
            },
            "header": {
             "fill": {
              "color": "#C8D4E3"
             },
             "line": {
              "color": "white"
             }
            },
            "type": "table"
           }
          ]
         },
         "layout": {
          "annotationdefaults": {
           "arrowcolor": "#2a3f5f",
           "arrowhead": 0,
           "arrowwidth": 1
          },
          "autotypenumbers": "strict",
          "coloraxis": {
           "colorbar": {
            "outlinewidth": 0,
            "ticks": ""
           }
          },
          "colorscale": {
           "diverging": [
            [
             0,
             "#8e0152"
            ],
            [
             0.1,
             "#c51b7d"
            ],
            [
             0.2,
             "#de77ae"
            ],
            [
             0.3,
             "#f1b6da"
            ],
            [
             0.4,
             "#fde0ef"
            ],
            [
             0.5,
             "#f7f7f7"
            ],
            [
             0.6,
             "#e6f5d0"
            ],
            [
             0.7,
             "#b8e186"
            ],
            [
             0.8,
             "#7fbc41"
            ],
            [
             0.9,
             "#4d9221"
            ],
            [
             1,
             "#276419"
            ]
           ],
           "sequential": [
            [
             0,
             "#0d0887"
            ],
            [
             0.1111111111111111,
             "#46039f"
            ],
            [
             0.2222222222222222,
             "#7201a8"
            ],
            [
             0.3333333333333333,
             "#9c179e"
            ],
            [
             0.4444444444444444,
             "#bd3786"
            ],
            [
             0.5555555555555556,
             "#d8576b"
            ],
            [
             0.6666666666666666,
             "#ed7953"
            ],
            [
             0.7777777777777778,
             "#fb9f3a"
            ],
            [
             0.8888888888888888,
             "#fdca26"
            ],
            [
             1,
             "#f0f921"
            ]
           ],
           "sequentialminus": [
            [
             0,
             "#0d0887"
            ],
            [
             0.1111111111111111,
             "#46039f"
            ],
            [
             0.2222222222222222,
             "#7201a8"
            ],
            [
             0.3333333333333333,
             "#9c179e"
            ],
            [
             0.4444444444444444,
             "#bd3786"
            ],
            [
             0.5555555555555556,
             "#d8576b"
            ],
            [
             0.6666666666666666,
             "#ed7953"
            ],
            [
             0.7777777777777778,
             "#fb9f3a"
            ],
            [
             0.8888888888888888,
             "#fdca26"
            ],
            [
             1,
             "#f0f921"
            ]
           ]
          },
          "colorway": [
           "#636efa",
           "#EF553B",
           "#00cc96",
           "#ab63fa",
           "#FFA15A",
           "#19d3f3",
           "#FF6692",
           "#B6E880",
           "#FF97FF",
           "#FECB52"
          ],
          "font": {
           "color": "#2a3f5f"
          },
          "geo": {
           "bgcolor": "white",
           "lakecolor": "white",
           "landcolor": "#E5ECF6",
           "showlakes": true,
           "showland": true,
           "subunitcolor": "white"
          },
          "hoverlabel": {
           "align": "left"
          },
          "hovermode": "closest",
          "mapbox": {
           "style": "light"
          },
          "paper_bgcolor": "white",
          "plot_bgcolor": "#E5ECF6",
          "polar": {
           "angularaxis": {
            "gridcolor": "white",
            "linecolor": "white",
            "ticks": ""
           },
           "bgcolor": "#E5ECF6",
           "radialaxis": {
            "gridcolor": "white",
            "linecolor": "white",
            "ticks": ""
           }
          },
          "scene": {
           "xaxis": {
            "backgroundcolor": "#E5ECF6",
            "gridcolor": "white",
            "gridwidth": 2,
            "linecolor": "white",
            "showbackground": true,
            "ticks": "",
            "zerolinecolor": "white"
           },
           "yaxis": {
            "backgroundcolor": "#E5ECF6",
            "gridcolor": "white",
            "gridwidth": 2,
            "linecolor": "white",
            "showbackground": true,
            "ticks": "",
            "zerolinecolor": "white"
           },
           "zaxis": {
            "backgroundcolor": "#E5ECF6",
            "gridcolor": "white",
            "gridwidth": 2,
            "linecolor": "white",
            "showbackground": true,
            "ticks": "",
            "zerolinecolor": "white"
           }
          },
          "shapedefaults": {
           "line": {
            "color": "#2a3f5f"
           }
          },
          "ternary": {
           "aaxis": {
            "gridcolor": "white",
            "linecolor": "white",
            "ticks": ""
           },
           "baxis": {
            "gridcolor": "white",
            "linecolor": "white",
            "ticks": ""
           },
           "bgcolor": "#E5ECF6",
           "caxis": {
            "gridcolor": "white",
            "linecolor": "white",
            "ticks": ""
           }
          },
          "title": {
           "x": 0.05
          },
          "xaxis": {
           "automargin": true,
           "gridcolor": "white",
           "linecolor": "white",
           "ticks": "",
           "title": {
            "standoff": 15
           },
           "zerolinecolor": "white",
           "zerolinewidth": 2
          },
          "yaxis": {
           "automargin": true,
           "gridcolor": "white",
           "linecolor": "white",
           "ticks": "",
           "title": {
            "standoff": 15
           },
           "zerolinecolor": "white",
           "zerolinewidth": 2
          }
         }
        },
        "title": {
         "text": "Apple ATM Straddle Performance Leading up to Earnings in percent"
        },
        "xaxis": {
         "anchor": "y",
         "constrain": "domain",
         "domain": [
          0,
          1
         ],
         "rangebreaks": [
          {
           "bounds": [
            "sat",
            "mon"
           ]
          }
         ],
         "scaleanchor": "y",
         "title": {
          "text": "days remaining"
         }
        },
        "yaxis": {
         "anchor": "x",
         "autorange": "reversed",
         "constrain": "domain",
         "domain": [
          0,
          1
         ],
         "title": {
          "text": "Straddle Initiated"
         }
        }
       }
      },
      "text/html": [
       "<div>                            <div id=\"97355c32-8f67-45be-a929-60030c51d351\" class=\"plotly-graph-div\" style=\"height:525px; width:100%;\"></div>            <script type=\"text/javascript\">                require([\"plotly\"], function(Plotly) {                    window.PLOTLYENV=window.PLOTLYENV || {};                                    if (document.getElementById(\"97355c32-8f67-45be-a929-60030c51d351\")) {                    Plotly.newPlot(                        \"97355c32-8f67-45be-a929-60030c51d351\",                        [{\"coloraxis\":\"coloraxis\",\"name\":\"0\",\"texttemplate\":\"%{z}\",\"x\":[\"22\",\"21\",\"20\",\"19\",\"18\",\"17\",\"16\",\"15\",\"14\",\"13\",\"12\",\"11\",\"10\",\"9\",\"8\",\"7\",\"6\",\"5\",\"4\",\"3\",\"2\",\"1\",\"After Earnings\"],\"y\":[\"23 days\",\"22 days\",\"21 days\",\"20 days\",\"19 days\",\"18 days\",\"17 days\",\"16 days\",\"15 days\",\"14 days\",\"13 days\",\"12 days\",\"11 days\",\"10 days\",\"9 days\",\"8 days\",\"7 days\",\"6 days\",\"5 days\",\"4 days\",\"3 days\",\"2 days\",\"1 days\"],\"z\":[[0.0,5.26,2.04,-6.04,-11.56,-12.81,-13.6,-1.12,-5.26,1.05,0.39,-12.55,0.26,-18.99,-20.24,-22.01,-25.23,-33.84,-35.94,-36.6,-38.57,-29.04,-48.36],[null,0.0,-4.71,-10.32,-10.32,-5.61,-7.42,-13.87,-17.1,-15.87,-17.1,-18.52,-21.94,-26.77,-26.45,-30.32,-32.65,-27.35,-22.52,-15.94,-27.61,-28.77,-8.0],[null,null,0.0,-0.33,-0.66,4.62,1.39,-9.57,-9.04,-14.19,-14.65,-12.54,-20.0,-18.48,-11.75,-21.32,-25.08,-21.39,-4.69,0.33,-10.63,-18.09,20.33],[null,null,null,0.0,0.0,5.25,3.24,-3.96,-7.55,-6.19,-7.55,-9.14,-12.95,-18.35,-17.99,-22.3,-24.89,-18.99,-13.6,-6.26,-19.28,-20.58,2.59],[null,null,null,null,0.0,1.61,1.53,5.75,0.38,5.29,4.98,-7.28,0.0,-11.49,-12.49,-15.33,-21.07,-22.45,-19.92,-15.79,-24.14,-20.31,-17.47],[null,null,null,null,null,0.0,-0.08,4.07,-1.21,3.62,3.32,-8.75,-1.58,-12.9,-13.88,-16.67,-22.32,-23.68,-21.19,-17.12,-25.34,-21.57,-18.78],[null,null,null,null,null,null,0.0,0.37,-3.73,-0.52,0.75,-8.51,-3.96,-15.45,-14.18,-18.28,-23.51,-22.16,-20.6,-14.18,-24.25,-21.27,-13.88],[null,null,null,null,null,null,null,0.0,0.97,-3.97,-3.0,-4.12,-9.66,-13.18,-14.01,-15.21,-18.35,-9.36,-2.55,8.46,-7.04,-13.78,20.6],[null,null,null,null,null,null,null,null,0.0,-4.9,-3.93,-5.04,-10.53,-14.02,-14.84,-16.02,-19.14,-10.24,-3.49,7.42,-7.94,-14.61,19.44],[null,null,null,null,null,null,null,null,null,0.0,-0.92,1.15,-7.53,-6.68,-14.36,-10.14,-13.21,-3.46,5.22,17.67,-1.31,-7.45,31.11],[null,null,null,null,null,null,null,null,null,null,0.0,2.47,-6.26,-4.49,3.4,-7.81,-12.22,-7.89,11.68,17.56,4.72,-4.02,40.99],[null,null,null,null,null,null,null,null,null,null,null,0.0,-0.81,-10.4,-7.98,-11.69,-16.94,-11.69,-7.5,1.37,-11.77,-12.9,9.35],[null,null,null,null,null,null,null,null,null,null,null,null,0.0,1.9,10.31,-1.65,-6.35,-1.73,19.14,25.41,11.72,2.39,50.41],[null,null,null,null,null,null,null,null,null,null,null,null,null,0.0,0.44,-4.85,-8.02,-0.79,5.81,14.8,-1.15,-2.73,25.64],[null,null,null,null,null,null,null,null,null,null,null,null,null,null,0.0,3.69,-4.33,-2.12,2.3,8.66,-2.95,-3.23,17.14],[null,null,null,null,null,null,null,null,null,null,null,null,null,null,null,0.0,-7.73,-5.6,-1.33,4.8,-6.4,-6.67,12.98],[null,null,null,null,null,null,null,null,null,null,null,null,null,null,null,null,0.0,6.31,11.36,22.04,6.21,4.85,31.65],[null,null,null,null,null,null,null,null,null,null,null,null,null,null,null,null,null,0.0,0.59,3.44,-6.39,2.55,-2.55],[null,null,null,null,null,null,null,null,null,null,null,null,null,null,null,null,null,null,0.0,-0.4,-5.43,7.24,-14.39],[null,null,null,null,null,null,null,null,null,null,null,null,null,null,null,null,null,null,null,0.0,4.69,27.37,-28.03],[null,null,null,null,null,null,null,null,null,null,null,null,null,null,null,null,null,null,null,null,0.0,13.4,-9.47],[null,null,null,null,null,null,null,null,null,null,null,null,null,null,null,null,null,null,null,null,null,0.0,9.38],[null,null,null,null,null,null,null,null,null,null,null,null,null,null,null,null,null,null,null,null,null,null,0.0]],\"type\":\"heatmap\",\"xaxis\":\"x\",\"yaxis\":\"y\",\"hovertemplate\":\"days remaining: %{x}<br>y: %{y}<br>color: %{z}<extra></extra>\"}],                        {\"template\":{\"data\":{\"histogram2dcontour\":[{\"type\":\"histogram2dcontour\",\"colorbar\":{\"outlinewidth\":0,\"ticks\":\"\"},\"colorscale\":[[0.0,\"#0d0887\"],[0.1111111111111111,\"#46039f\"],[0.2222222222222222,\"#7201a8\"],[0.3333333333333333,\"#9c179e\"],[0.4444444444444444,\"#bd3786\"],[0.5555555555555556,\"#d8576b\"],[0.6666666666666666,\"#ed7953\"],[0.7777777777777778,\"#fb9f3a\"],[0.8888888888888888,\"#fdca26\"],[1.0,\"#f0f921\"]]}],\"choropleth\":[{\"type\":\"choropleth\",\"colorbar\":{\"outlinewidth\":0,\"ticks\":\"\"}}],\"histogram2d\":[{\"type\":\"histogram2d\",\"colorbar\":{\"outlinewidth\":0,\"ticks\":\"\"},\"colorscale\":[[0.0,\"#0d0887\"],[0.1111111111111111,\"#46039f\"],[0.2222222222222222,\"#7201a8\"],[0.3333333333333333,\"#9c179e\"],[0.4444444444444444,\"#bd3786\"],[0.5555555555555556,\"#d8576b\"],[0.6666666666666666,\"#ed7953\"],[0.7777777777777778,\"#fb9f3a\"],[0.8888888888888888,\"#fdca26\"],[1.0,\"#f0f921\"]]}],\"heatmap\":[{\"type\":\"heatmap\",\"colorbar\":{\"outlinewidth\":0,\"ticks\":\"\"},\"colorscale\":[[0.0,\"#0d0887\"],[0.1111111111111111,\"#46039f\"],[0.2222222222222222,\"#7201a8\"],[0.3333333333333333,\"#9c179e\"],[0.4444444444444444,\"#bd3786\"],[0.5555555555555556,\"#d8576b\"],[0.6666666666666666,\"#ed7953\"],[0.7777777777777778,\"#fb9f3a\"],[0.8888888888888888,\"#fdca26\"],[1.0,\"#f0f921\"]]}],\"heatmapgl\":[{\"type\":\"heatmapgl\",\"colorbar\":{\"outlinewidth\":0,\"ticks\":\"\"},\"colorscale\":[[0.0,\"#0d0887\"],[0.1111111111111111,\"#46039f\"],[0.2222222222222222,\"#7201a8\"],[0.3333333333333333,\"#9c179e\"],[0.4444444444444444,\"#bd3786\"],[0.5555555555555556,\"#d8576b\"],[0.6666666666666666,\"#ed7953\"],[0.7777777777777778,\"#fb9f3a\"],[0.8888888888888888,\"#fdca26\"],[1.0,\"#f0f921\"]]}],\"contourcarpet\":[{\"type\":\"contourcarpet\",\"colorbar\":{\"outlinewidth\":0,\"ticks\":\"\"}}],\"contour\":[{\"type\":\"contour\",\"colorbar\":{\"outlinewidth\":0,\"ticks\":\"\"},\"colorscale\":[[0.0,\"#0d0887\"],[0.1111111111111111,\"#46039f\"],[0.2222222222222222,\"#7201a8\"],[0.3333333333333333,\"#9c179e\"],[0.4444444444444444,\"#bd3786\"],[0.5555555555555556,\"#d8576b\"],[0.6666666666666666,\"#ed7953\"],[0.7777777777777778,\"#fb9f3a\"],[0.8888888888888888,\"#fdca26\"],[1.0,\"#f0f921\"]]}],\"surface\":[{\"type\":\"surface\",\"colorbar\":{\"outlinewidth\":0,\"ticks\":\"\"},\"colorscale\":[[0.0,\"#0d0887\"],[0.1111111111111111,\"#46039f\"],[0.2222222222222222,\"#7201a8\"],[0.3333333333333333,\"#9c179e\"],[0.4444444444444444,\"#bd3786\"],[0.5555555555555556,\"#d8576b\"],[0.6666666666666666,\"#ed7953\"],[0.7777777777777778,\"#fb9f3a\"],[0.8888888888888888,\"#fdca26\"],[1.0,\"#f0f921\"]]}],\"mesh3d\":[{\"type\":\"mesh3d\",\"colorbar\":{\"outlinewidth\":0,\"ticks\":\"\"}}],\"scatter\":[{\"fillpattern\":{\"fillmode\":\"overlay\",\"size\":10,\"solidity\":0.2},\"type\":\"scatter\"}],\"parcoords\":[{\"type\":\"parcoords\",\"line\":{\"colorbar\":{\"outlinewidth\":0,\"ticks\":\"\"}}}],\"scatterpolargl\":[{\"type\":\"scatterpolargl\",\"marker\":{\"colorbar\":{\"outlinewidth\":0,\"ticks\":\"\"}}}],\"bar\":[{\"error_x\":{\"color\":\"#2a3f5f\"},\"error_y\":{\"color\":\"#2a3f5f\"},\"marker\":{\"line\":{\"color\":\"#E5ECF6\",\"width\":0.5},\"pattern\":{\"fillmode\":\"overlay\",\"size\":10,\"solidity\":0.2}},\"type\":\"bar\"}],\"scattergeo\":[{\"type\":\"scattergeo\",\"marker\":{\"colorbar\":{\"outlinewidth\":0,\"ticks\":\"\"}}}],\"scatterpolar\":[{\"type\":\"scatterpolar\",\"marker\":{\"colorbar\":{\"outlinewidth\":0,\"ticks\":\"\"}}}],\"histogram\":[{\"marker\":{\"pattern\":{\"fillmode\":\"overlay\",\"size\":10,\"solidity\":0.2}},\"type\":\"histogram\"}],\"scattergl\":[{\"type\":\"scattergl\",\"marker\":{\"colorbar\":{\"outlinewidth\":0,\"ticks\":\"\"}}}],\"scatter3d\":[{\"type\":\"scatter3d\",\"line\":{\"colorbar\":{\"outlinewidth\":0,\"ticks\":\"\"}},\"marker\":{\"colorbar\":{\"outlinewidth\":0,\"ticks\":\"\"}}}],\"scattermapbox\":[{\"type\":\"scattermapbox\",\"marker\":{\"colorbar\":{\"outlinewidth\":0,\"ticks\":\"\"}}}],\"scatterternary\":[{\"type\":\"scatterternary\",\"marker\":{\"colorbar\":{\"outlinewidth\":0,\"ticks\":\"\"}}}],\"scattercarpet\":[{\"type\":\"scattercarpet\",\"marker\":{\"colorbar\":{\"outlinewidth\":0,\"ticks\":\"\"}}}],\"carpet\":[{\"aaxis\":{\"endlinecolor\":\"#2a3f5f\",\"gridcolor\":\"white\",\"linecolor\":\"white\",\"minorgridcolor\":\"white\",\"startlinecolor\":\"#2a3f5f\"},\"baxis\":{\"endlinecolor\":\"#2a3f5f\",\"gridcolor\":\"white\",\"linecolor\":\"white\",\"minorgridcolor\":\"white\",\"startlinecolor\":\"#2a3f5f\"},\"type\":\"carpet\"}],\"table\":[{\"cells\":{\"fill\":{\"color\":\"#EBF0F8\"},\"line\":{\"color\":\"white\"}},\"header\":{\"fill\":{\"color\":\"#C8D4E3\"},\"line\":{\"color\":\"white\"}},\"type\":\"table\"}],\"barpolar\":[{\"marker\":{\"line\":{\"color\":\"#E5ECF6\",\"width\":0.5},\"pattern\":{\"fillmode\":\"overlay\",\"size\":10,\"solidity\":0.2}},\"type\":\"barpolar\"}],\"pie\":[{\"automargin\":true,\"type\":\"pie\"}]},\"layout\":{\"autotypenumbers\":\"strict\",\"colorway\":[\"#636efa\",\"#EF553B\",\"#00cc96\",\"#ab63fa\",\"#FFA15A\",\"#19d3f3\",\"#FF6692\",\"#B6E880\",\"#FF97FF\",\"#FECB52\"],\"font\":{\"color\":\"#2a3f5f\"},\"hovermode\":\"closest\",\"hoverlabel\":{\"align\":\"left\"},\"paper_bgcolor\":\"white\",\"plot_bgcolor\":\"#E5ECF6\",\"polar\":{\"bgcolor\":\"#E5ECF6\",\"angularaxis\":{\"gridcolor\":\"white\",\"linecolor\":\"white\",\"ticks\":\"\"},\"radialaxis\":{\"gridcolor\":\"white\",\"linecolor\":\"white\",\"ticks\":\"\"}},\"ternary\":{\"bgcolor\":\"#E5ECF6\",\"aaxis\":{\"gridcolor\":\"white\",\"linecolor\":\"white\",\"ticks\":\"\"},\"baxis\":{\"gridcolor\":\"white\",\"linecolor\":\"white\",\"ticks\":\"\"},\"caxis\":{\"gridcolor\":\"white\",\"linecolor\":\"white\",\"ticks\":\"\"}},\"coloraxis\":{\"colorbar\":{\"outlinewidth\":0,\"ticks\":\"\"}},\"colorscale\":{\"sequential\":[[0.0,\"#0d0887\"],[0.1111111111111111,\"#46039f\"],[0.2222222222222222,\"#7201a8\"],[0.3333333333333333,\"#9c179e\"],[0.4444444444444444,\"#bd3786\"],[0.5555555555555556,\"#d8576b\"],[0.6666666666666666,\"#ed7953\"],[0.7777777777777778,\"#fb9f3a\"],[0.8888888888888888,\"#fdca26\"],[1.0,\"#f0f921\"]],\"sequentialminus\":[[0.0,\"#0d0887\"],[0.1111111111111111,\"#46039f\"],[0.2222222222222222,\"#7201a8\"],[0.3333333333333333,\"#9c179e\"],[0.4444444444444444,\"#bd3786\"],[0.5555555555555556,\"#d8576b\"],[0.6666666666666666,\"#ed7953\"],[0.7777777777777778,\"#fb9f3a\"],[0.8888888888888888,\"#fdca26\"],[1.0,\"#f0f921\"]],\"diverging\":[[0,\"#8e0152\"],[0.1,\"#c51b7d\"],[0.2,\"#de77ae\"],[0.3,\"#f1b6da\"],[0.4,\"#fde0ef\"],[0.5,\"#f7f7f7\"],[0.6,\"#e6f5d0\"],[0.7,\"#b8e186\"],[0.8,\"#7fbc41\"],[0.9,\"#4d9221\"],[1,\"#276419\"]]},\"xaxis\":{\"gridcolor\":\"white\",\"linecolor\":\"white\",\"ticks\":\"\",\"title\":{\"standoff\":15},\"zerolinecolor\":\"white\",\"automargin\":true,\"zerolinewidth\":2},\"yaxis\":{\"gridcolor\":\"white\",\"linecolor\":\"white\",\"ticks\":\"\",\"title\":{\"standoff\":15},\"zerolinecolor\":\"white\",\"automargin\":true,\"zerolinewidth\":2},\"scene\":{\"xaxis\":{\"backgroundcolor\":\"#E5ECF6\",\"gridcolor\":\"white\",\"linecolor\":\"white\",\"showbackground\":true,\"ticks\":\"\",\"zerolinecolor\":\"white\",\"gridwidth\":2},\"yaxis\":{\"backgroundcolor\":\"#E5ECF6\",\"gridcolor\":\"white\",\"linecolor\":\"white\",\"showbackground\":true,\"ticks\":\"\",\"zerolinecolor\":\"white\",\"gridwidth\":2},\"zaxis\":{\"backgroundcolor\":\"#E5ECF6\",\"gridcolor\":\"white\",\"linecolor\":\"white\",\"showbackground\":true,\"ticks\":\"\",\"zerolinecolor\":\"white\",\"gridwidth\":2}},\"shapedefaults\":{\"line\":{\"color\":\"#2a3f5f\"}},\"annotationdefaults\":{\"arrowcolor\":\"#2a3f5f\",\"arrowhead\":0,\"arrowwidth\":1},\"geo\":{\"bgcolor\":\"white\",\"landcolor\":\"#E5ECF6\",\"subunitcolor\":\"white\",\"showland\":true,\"showlakes\":true,\"lakecolor\":\"white\"},\"title\":{\"x\":0.05},\"mapbox\":{\"style\":\"light\"}}},\"xaxis\":{\"anchor\":\"y\",\"domain\":[0.0,1.0],\"scaleanchor\":\"y\",\"constrain\":\"domain\",\"title\":{\"text\":\"days remaining\"},\"rangebreaks\":[{\"bounds\":[\"sat\",\"mon\"]}]},\"yaxis\":{\"anchor\":\"x\",\"domain\":[0.0,1.0],\"autorange\":\"reversed\",\"constrain\":\"domain\",\"title\":{\"text\":\"Straddle Initiated\"}},\"coloraxis\":{\"colorscale\":[[0,\"red\"],[0.5,\"white\"],[1.0,\"green\"]],\"cmin\":-100,\"cmax\":100},\"margin\":{\"t\":60},\"title\":{\"text\":\"Apple ATM Straddle Performance Leading up to Earnings in percent\"}},                        {\"responsive\": true}                    ).then(function(){\n",
       "                            \n",
       "var gd = document.getElementById('97355c32-8f67-45be-a929-60030c51d351');\n",
       "var x = new MutationObserver(function (mutations, observer) {{\n",
       "        var display = window.getComputedStyle(gd).display;\n",
       "        if (!display || display === 'none') {{\n",
       "            console.log([gd, 'removed!']);\n",
       "            Plotly.purge(gd);\n",
       "            observer.disconnect();\n",
       "        }}\n",
       "}});\n",
       "\n",
       "// Listen for the removal of the full notebook cells\n",
       "var notebookContainer = gd.closest('#notebook-container');\n",
       "if (notebookContainer) {{\n",
       "    x.observe(notebookContainer, {childList: true});\n",
       "}}\n",
       "\n",
       "// Listen for the clearing of the current output cell\n",
       "var outputEl = gd.closest('.output');\n",
       "if (outputEl) {{\n",
       "    x.observe(outputEl, {childList: true});\n",
       "}}\n",
       "\n",
       "                        })                };                });            </script>        </div>"
      ]
     },
     "metadata": {},
     "output_type": "display_data"
    },
    {
     "data": {
      "text/plain": [
       "'temp-plot.html'"
      ]
     },
     "execution_count": 44,
     "metadata": {},
     "output_type": "execute_result"
    }
   ],
   "source": [
    "fig = px.imshow(all_df.transpose(), color_continuous_scale=[(0,'red'), (0.5,'white'), (1.0, 'green')], range_color=(-100 ,100), text_auto=True)\n",
    "fig.update_layout(\n",
    "    title='Apple ATM Straddle Performance Leading up to Earnings in percent',\n",
    "    yaxis_title='Straddle Initiated'\n",
    ")\n",
    "fig.update_xaxes(rangebreaks=[dict(bounds=[\"sat\", \"mon\"])]),  # hide weekends, eg. hide sat to before mon])\n",
    "fig.show()\n",
    "\n",
    "plot(fig, auto_open=True)"
   ]
  },
  {
   "cell_type": "code",
   "execution_count": null,
   "id": "2b7e4cc6",
   "metadata": {},
   "outputs": [],
   "source": []
  }
 ],
 "metadata": {
  "kernelspec": {
   "display_name": "Python [conda env:options-backtester]",
   "language": "python",
   "name": "conda-env-options-backtester-py"
  },
  "language_info": {
   "codemirror_mode": {
    "name": "ipython",
    "version": 3
   },
   "file_extension": ".py",
   "mimetype": "text/x-python",
   "name": "python",
   "nbconvert_exporter": "python",
   "pygments_lexer": "ipython3",
   "version": "3.10.8"
  }
 },
 "nbformat": 4,
 "nbformat_minor": 5
}
